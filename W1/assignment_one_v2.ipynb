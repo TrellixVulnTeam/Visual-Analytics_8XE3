{
 "cells": [
  {
   "cell_type": "markdown",
   "metadata": {},
   "source": [
    "\n",
    "## Assignment one \n",
    "### Visual Analytics\n",
    "February 2021\n",
    "\n",
    "_Marie Damsgaard Mortensen_\n",
    "\n",
    "Basic scripting with Python\n",
    "\n",
    "Create or find small dataset of images, using an online data source such as Kaggle. At the very least, your dataset should contain no fewer than 10 images.\n",
    "\n",
    "\n",
    "\n",
    "Write a Python script which does the following:\n",
    "\n",
    "- For each image, find the width, height, and number of channels\n",
    "- For each image, split image into four equal-sized quadrants (i.e. top-left, top-right, bottom-left, bottom-right)\n",
    "- Save each of the split images in JPG format\n",
    "- Create and save a file containing the filename, width, height for all of the new images.\n",
    "\n",
    "\n",
    "General instructions\n",
    "- For this exercise, you can upload either a standalone script OR a Jupyter Notebook\n",
    "- Save your script as basic_image_processing.py OR basic_image_processing.ipynb\n",
    "- If you have external dependencies, you must include a requirements.txt\n",
    "- You can either upload the script here or push to GitHub and include a link - or both!\n",
    "- Your code should be clearly documented in a way that allows others to easily follow the structure of your script.\n",
    "- Similarly, remember to use descriptive variable names! A name like width is more readable than w.\n",
    "- The filenames of the split images should clearly relate to the original image.\n",
    "\n",
    "\n",
    "Purpose\n",
    "\n",
    "- This assignment is designed to test that you have a understanding of:\n",
    "- how to structure, document, and share a Python script\n",
    "- how to effectively make use of basic functions in cv2\n",
    "- how to read, write, and process images files."
   ]
  },
  {
   "cell_type": "code",
   "execution_count": 4,
   "metadata": {},
   "outputs": [],
   "source": [
    "# Firstly, I'm importing modules appropriate for the different tasks\n",
    "import os # Handling paths\n",
    "import numpy as np # For numerical operation - abbreviation to save keystrokes\n",
    "import cv2 # Reading images "
   ]
  },
  {
   "cell_type": "markdown",
   "metadata": {},
   "source": [
    "### Metadata\n",
    "I have downloaded the Stanford dog set from Kaggle and saved the folder with the breed \"Collie\" (https://www.kaggle.com/jessicali9530/stanford-dogs-dataset). One example of such a picture is provided below.\n",
    "\n",
    "Firstly, I will import modules needed for the assignment. \n",
    "\n",
    "Afterwards I will be defining the functions needed for finding pixels, splitting the picture and saving the new images and information about these. \n",
    "\n",
    "Lastly, all functions are collected within a loop that lists all files and performs the functions on each file."
   ]
  },
  {
   "cell_type": "code",
   "execution_count": 3,
   "metadata": {},
   "outputs": [
    {
     "ename": "NameError",
     "evalue": "name 'os' is not defined",
     "output_type": "error",
     "traceback": [
      "\u001b[0;31m---------------------------------------------------------------------------\u001b[0m",
      "\u001b[0;31mNameError\u001b[0m                                 Traceback (most recent call last)",
      "\u001b[0;32m<ipython-input-3-055a68448c70>\u001b[0m in \u001b[0;36m<module>\u001b[0;34m\u001b[0m\n\u001b[1;32m      1\u001b[0m \u001b[0;31m# Examples\u001b[0m\u001b[0;34m\u001b[0m\u001b[0;34m\u001b[0m\u001b[0;34m\u001b[0m\u001b[0m\n\u001b[0;32m----> 2\u001b[0;31m \u001b[0msingle_file\u001b[0m \u001b[0;34m=\u001b[0m \u001b[0mos\u001b[0m\u001b[0;34m.\u001b[0m\u001b[0mpath\u001b[0m\u001b[0;34m.\u001b[0m\u001b[0mjoin\u001b[0m\u001b[0;34m(\u001b[0m\u001b[0;34m\"collie_data\"\u001b[0m\u001b[0;34m,\u001b[0m \u001b[0;34m\"n02106030_10170.jpg\"\u001b[0m\u001b[0;34m)\u001b[0m \u001b[0;31m# Path to single file\u001b[0m\u001b[0;34m\u001b[0m\u001b[0;34m\u001b[0m\u001b[0m\n\u001b[0m\u001b[1;32m      3\u001b[0m \u001b[0;32mimport\u001b[0m \u001b[0msys\u001b[0m \u001b[0;31m# To append home dir to path\u001b[0m\u001b[0;34m\u001b[0m\u001b[0;34m\u001b[0m\u001b[0m\n\u001b[1;32m      4\u001b[0m \u001b[0msys\u001b[0m\u001b[0;34m.\u001b[0m\u001b[0mpath\u001b[0m\u001b[0;34m.\u001b[0m\u001b[0mappend\u001b[0m\u001b[0;34m(\u001b[0m\u001b[0mos\u001b[0m\u001b[0;34m.\u001b[0m\u001b[0mpath\u001b[0m\u001b[0;34m.\u001b[0m\u001b[0mjoin\u001b[0m\u001b[0;34m(\u001b[0m\u001b[0;34m\"..\"\u001b[0m\u001b[0;34m)\u001b[0m\u001b[0;34m)\u001b[0m \u001b[0;31m# Append home dir\u001b[0m\u001b[0;34m\u001b[0m\u001b[0;34m\u001b[0m\u001b[0m\n\u001b[1;32m      5\u001b[0m \u001b[0;34m\u001b[0m\u001b[0m\n",
      "\u001b[0;31mNameError\u001b[0m: name 'os' is not defined"
     ]
    }
   ],
   "source": [
    "# Examples \n",
    "single_file = os.path.join(\"collie_data\", \"n02106030_16171.jpg\") # Path to single file\n",
    "import sys # To append home dir to path\n",
    "sys.path.append(os.path.join(\"..\")) # Append home dir\n",
    "\n",
    "from utils.imutils import jimshow # To show image\n",
    "collie = cv2.imread(single_file) # Reading image\n",
    "jimshow(collie, \"Collie example\") # Presenting image with caption"
   ]
  },
  {
   "cell_type": "code",
   "execution_count": 3,
   "metadata": {},
   "outputs": [],
   "source": [
    "def img_split(image): # The input here is the original image\n",
    "    # Taking the different quadrants by selecting half of the height (image.shape[0]) and width (image.shape[1]) and indexes of the image arrays corresponding to e.g. left top/bottom or right top/bottom)\n",
    "    left_top = image[0:int(image.shape[0]/2), 0:int(image.shape[1]/2)]\n",
    "    left_bottom = image[int(image.shape[0]/2):int(image.shape[0]), 0:int(image.shape[1]/2)]\n",
    "    right_top = image[0:int(image.shape[0]/2), int(image.shape[1]/2):int(image.shape[1])]\n",
    "    right_bottom = image[int(image.shape[0]/2):int(image.shape[0]), int(image.shape[1]/2):int(image.shape[1])]\n",
    "    img_list = [left_top, left_bottom, right_top, right_bottom] # Saving each quadrant as an element in my list\n",
    "    return img_list "
   ]
  },
  {
   "cell_type": "markdown",
   "metadata": {},
   "source": [
    "Now we have a function that splits the image into four quadrants and saves them in a list and a function that saves information about the images in another list. \n",
    "At this point, we need to save each image with a unique name and with a .jpg extension. This is done by looping through every (quadrant) element in the list \"img_list\". For every element we combine the filepath defined, the filename of the original image and the name specifying whihc quadrant as well as the jpg extension. Afterwards, the file is written. "
   ]
  },
  {
   "cell_type": "code",
   "execution_count": 4,
   "metadata": {},
   "outputs": [],
   "source": [
    "def write_img(filepath, filename, img_list, names):\n",
    "    for image_n in range(len(img_list)): # The function range(len(img_list)) takes the image number rather than the content/image array\n",
    "        outfile = os.path.join(filepath, f\"{filename}_{names[image_n]}.jpg\") # Here, image_n is used to define which quadrant name to select in the output file\n",
    "        cv2.imwrite(outfile, img_list[image_n]) # Writing the file \n",
    "    return(print(\"sucess - all images saved!\")) "
   ]
  },
  {
   "cell_type": "markdown",
   "metadata": {},
   "source": [
    "\n",
    "\n",
    "\n",
    "Lastly, a function to save the information is needed. Here, we use filename and image to calulate pixels for all the quadrants and save these as .txt files"
   ]
  },
  {
   "cell_type": "code",
   "execution_count": 5,
   "metadata": {},
   "outputs": [],
   "source": [
    "def img_info(image, filename, filepath): # The input is the entire image before splitted into quadrants \n",
    "    info_str = f\"The four quadrants in the image with filename {filename} has a height of {int(image.shape[0]/2)} pixels and a width of {int(image.shape[1]/2)} pixels\" # Using formatted stirngs to show pixel information in each original collie image\n",
    "    outpath = os.path.join(f\"{filepath}\", f\"pixel_info_{filename}.txt\") # Specifying which output file should be made\n",
    "    with open(outpath,  \"w\", encoding = \"utf-8\") as file:\n",
    "        file.write(info_str)\n",
    "    return(print(\"pixel info saved!\"))"
   ]
  },
  {
   "cell_type": "markdown",
   "metadata": {},
   "source": [
    "To put it all together, I will now attempt to list all filenames in my dog-folder "
   ]
  },
  {
   "cell_type": "code",
   "execution_count": 7,
   "metadata": {},
   "outputs": [],
   "source": [
    "from pathlib import Path"
   ]
  },
  {
   "cell_type": "code",
   "execution_count": 7,
   "metadata": {},
   "outputs": [
    {
     "ename": "FileExistsError",
     "evalue": "[Errno 17] File exists: 'collie_output'",
     "output_type": "error",
     "traceback": [
      "\u001b[0;31m---------------------------------------------------------------------------\u001b[0m",
      "\u001b[0;31mFileExistsError\u001b[0m                           Traceback (most recent call last)",
      "\u001b[0;32m<ipython-input-7-6ce37e6f470f>\u001b[0m in \u001b[0;36m<module>\u001b[0;34m\u001b[0m\n\u001b[0;32m----> 1\u001b[0;31m \u001b[0mos\u001b[0m\u001b[0;34m.\u001b[0m\u001b[0mmkdir\u001b[0m\u001b[0;34m(\u001b[0m\u001b[0;34m\"collie_output\"\u001b[0m\u001b[0;34m)\u001b[0m \u001b[0;31m# New directory for output quadrant .png files and .txt files - N.B. This should only run once!\u001b[0m\u001b[0;34m\u001b[0m\u001b[0;34m\u001b[0m\u001b[0m\n\u001b[0m",
      "\u001b[0;31mFileExistsError\u001b[0m: [Errno 17] File exists: 'collie_output'"
     ]
    }
   ],
   "source": [
    "os.mkdir(\"collie_output\") # New directory for output quadrant .png files and .txt files - N.B. This should only run once!"
   ]
  },
  {
   "cell_type": "code",
   "execution_count": 8,
   "metadata": {},
   "outputs": [],
   "source": [
    "filepath = os.path.join(\"collie_data\") # Specifying path\n",
    "names = [\"left_top\", \"left_bottom\", \"right_top\", \"right_bottom\"] # Specifying quadrant names for output files\n",
    "filepath_out = os.path.join(\"collie_output\") # Path for output files  "
   ]
  },
  {
   "cell_type": "code",
   "execution_count": 9,
   "metadata": {},
   "outputs": [
    {
     "ename": "TypeError",
     "evalue": "Can't convert object of type 'PosixPath' to 'str' for 'filename'",
     "output_type": "error",
     "traceback": [
      "\u001b[0;31m---------------------------------------------------------------------------\u001b[0m",
      "\u001b[0;31mTypeError\u001b[0m                                 Traceback (most recent call last)",
      "\u001b[0;32m<ipython-input-9-e0c39907ee2c>\u001b[0m in \u001b[0;36m<module>\u001b[0;34m\u001b[0m\n\u001b[1;32m      1\u001b[0m \u001b[0;32mfor\u001b[0m \u001b[0mfilename\u001b[0m \u001b[0;32min\u001b[0m \u001b[0mPath\u001b[0m\u001b[0;34m(\u001b[0m\u001b[0mfilepath\u001b[0m\u001b[0;34m)\u001b[0m\u001b[0;34m.\u001b[0m\u001b[0mglob\u001b[0m\u001b[0;34m(\u001b[0m\u001b[0;34m\"*.jpg\"\u001b[0m\u001b[0;34m)\u001b[0m\u001b[0;34m:\u001b[0m \u001b[0;31m# Takes every file with .jpg extension (which is the extension the collie images have)\u001b[0m\u001b[0;34m\u001b[0m\u001b[0;34m\u001b[0m\u001b[0m\n\u001b[0;32m----> 2\u001b[0;31m     \u001b[0mimage\u001b[0m \u001b[0;34m=\u001b[0m \u001b[0mcv2\u001b[0m\u001b[0;34m.\u001b[0m\u001b[0mimread\u001b[0m\u001b[0;34m(\u001b[0m\u001b[0mfilename\u001b[0m\u001b[0;34m)\u001b[0m \u001b[0;31m# Reads file and saves as image\u001b[0m\u001b[0;34m\u001b[0m\u001b[0;34m\u001b[0m\u001b[0m\n\u001b[0m\u001b[1;32m      3\u001b[0m     \u001b[0mprint\u001b[0m\u001b[0;34m(\u001b[0m\u001b[0;34mf\"Height is {image.shape[0]} pixels\"\u001b[0m\u001b[0;34m)\u001b[0m\u001b[0;34m\u001b[0m\u001b[0;34m\u001b[0m\u001b[0m\n\u001b[1;32m      4\u001b[0m     \u001b[0mprint\u001b[0m\u001b[0;34m(\u001b[0m\u001b[0;34mf\"Width is {image.shape[1]} pixels\"\u001b[0m\u001b[0;34m)\u001b[0m\u001b[0;34m\u001b[0m\u001b[0;34m\u001b[0m\u001b[0m\n\u001b[1;32m      5\u001b[0m     \u001b[0mprint\u001b[0m\u001b[0;34m(\u001b[0m\u001b[0;34mf\"There are {image.shape[2]} color channels\"\u001b[0m\u001b[0;34m)\u001b[0m\u001b[0;34m\u001b[0m\u001b[0;34m\u001b[0m\u001b[0m\n",
      "\u001b[0;31mTypeError\u001b[0m: Can't convert object of type 'PosixPath' to 'str' for 'filename'"
     ]
    }
   ],
   "source": [
    "for filename in Path(filepath).glob(\"*.jpg\"): # Takes every file with .jpg extension (which is the extension the collie images have)\n",
    "    image = cv2.imread(str(filename)) # Reads file and saves as image\n",
    "    print(f\"Height is {image.shape[0]} pixels\")\n",
    "    print(f\"Width is {image.shape[1]} pixels\")\n",
    "    print(f\"There are {image.shape[2]} color channels\")\n",
    "    filename_new = os.path.splitext(os.path.basename(filename))[0] # Removing both path and extension with this\n",
    "    img_info(image, filename_new, filepath_out) # Saves image info as txt file \n",
    "    img_list = img_split(image) # Splits into quadrants\n",
    "    write_img(filepath_out, filename_new, img_list, names) # Using previously defined function to save files"
   ]
  },
  {
   "cell_type": "code",
   "execution_count": null,
   "metadata": {},
   "outputs": [],
   "source": []
  }
 ],
 "metadata": {
  "kernelspec": {
   "display_name": "cv101",
   "language": "python",
   "name": "cv101"
  },
  "language_info": {
   "codemirror_mode": {
    "name": "ipython",
    "version": 3
   },
   "file_extension": ".py",
   "mimetype": "text/x-python",
   "name": "python",
   "nbconvert_exporter": "python",
   "pygments_lexer": "ipython3",
   "version": "3.6.9"
  }
 },
 "nbformat": 4,
 "nbformat_minor": 4
}
